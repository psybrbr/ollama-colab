{
  "nbformat": 4,
  "nbformat_minor": 0,
  "metadata": {
    "colab": {
      "provenance": [],
      "gpuType": "T4",
      "authorship_tag": "ABX9TyMpapvTdHV1OiEWbH98KdsS",
      "include_colab_link": true
    },
    "kernelspec": {
      "name": "python3",
      "display_name": "Python 3"
    },
    "language_info": {
      "name": "python"
    },
    "accelerator": "GPU"
  },
  "cells": [
    {
      "cell_type": "markdown",
      "metadata": {
        "id": "view-in-github",
        "colab_type": "text"
      },
      "source": [
        "<a href=\"https://colab.research.google.com/github/psybrbr/ollama-colab/blob/main/Ollama_Cloud.ipynb\" target=\"_parent\"><img src=\"https://colab.research.google.com/assets/colab-badge.svg\" alt=\"Open In Colab\"/></a>"
      ]
    },
    {
      "cell_type": "code",
      "execution_count": null,
      "metadata": {
        "colab": {
          "base_uri": "https://localhost:8080/"
        },
        "id": "oDyBOziOSovr",
        "outputId": "1cac42b6-7c21-4443-8da1-d6c040869346"
      },
      "outputs": [
        {
          "output_type": "stream",
          "name": "stdout",
          "text": [
            ">>> Installing ollama to /usr/local\n",
            ">>> Downloading Linux amd64 bundle\n",
            "######################################################################## 100.0%\n",
            ">>> Creating ollama user...\n",
            ">>> Adding ollama user to video group...\n",
            ">>> Adding current user to ollama group...\n",
            ">>> Creating ollama systemd service...\n",
            "\u001b[1m\u001b[31mWARNING:\u001b[m systemd is not running\n",
            "\u001b[1m\u001b[31mWARNING:\u001b[m Unable to detect NVIDIA/AMD GPU. Install lspci or lshw to automatically detect and install GPU dependencies.\n",
            ">>> The Ollama API is now available at 127.0.0.1:11434.\n",
            ">>> Install complete. Run \"ollama\" from the command line.\n"
          ]
        }
      ],
      "source": [
        "!curl -fsSL https://ollama.com/install.sh | sh\n"
      ]
    },
    {
      "cell_type": "code",
      "source": [
        "!pip install pyngrok ollama\n"
      ],
      "metadata": {
        "colab": {
          "base_uri": "https://localhost:8080/"
        },
        "id": "aRto-oPlS3KP",
        "outputId": "ae91521c-b615-48b4-86a8-3c8062365560"
      },
      "execution_count": null,
      "outputs": [
        {
          "output_type": "stream",
          "name": "stdout",
          "text": [
            "Collecting pyngrok\n",
            "  Downloading pyngrok-7.3.0-py3-none-any.whl.metadata (8.1 kB)\n",
            "Collecting ollama\n",
            "  Downloading ollama-0.5.3-py3-none-any.whl.metadata (4.3 kB)\n",
            "Requirement already satisfied: PyYAML>=5.1 in /usr/local/lib/python3.11/dist-packages (from pyngrok) (6.0.2)\n",
            "Requirement already satisfied: httpx>=0.27 in /usr/local/lib/python3.11/dist-packages (from ollama) (0.28.1)\n",
            "Requirement already satisfied: pydantic>=2.9 in /usr/local/lib/python3.11/dist-packages (from ollama) (2.11.7)\n",
            "Requirement already satisfied: anyio in /usr/local/lib/python3.11/dist-packages (from httpx>=0.27->ollama) (4.10.0)\n",
            "Requirement already satisfied: certifi in /usr/local/lib/python3.11/dist-packages (from httpx>=0.27->ollama) (2025.8.3)\n",
            "Requirement already satisfied: httpcore==1.* in /usr/local/lib/python3.11/dist-packages (from httpx>=0.27->ollama) (1.0.9)\n",
            "Requirement already satisfied: idna in /usr/local/lib/python3.11/dist-packages (from httpx>=0.27->ollama) (3.10)\n",
            "Requirement already satisfied: h11>=0.16 in /usr/local/lib/python3.11/dist-packages (from httpcore==1.*->httpx>=0.27->ollama) (0.16.0)\n",
            "Requirement already satisfied: annotated-types>=0.6.0 in /usr/local/lib/python3.11/dist-packages (from pydantic>=2.9->ollama) (0.7.0)\n",
            "Requirement already satisfied: pydantic-core==2.33.2 in /usr/local/lib/python3.11/dist-packages (from pydantic>=2.9->ollama) (2.33.2)\n",
            "Requirement already satisfied: typing-extensions>=4.12.2 in /usr/local/lib/python3.11/dist-packages (from pydantic>=2.9->ollama) (4.14.1)\n",
            "Requirement already satisfied: typing-inspection>=0.4.0 in /usr/local/lib/python3.11/dist-packages (from pydantic>=2.9->ollama) (0.4.1)\n",
            "Requirement already satisfied: sniffio>=1.1 in /usr/local/lib/python3.11/dist-packages (from anyio->httpx>=0.27->ollama) (1.3.1)\n",
            "Downloading pyngrok-7.3.0-py3-none-any.whl (25 kB)\n",
            "Downloading ollama-0.5.3-py3-none-any.whl (13 kB)\n",
            "Installing collected packages: pyngrok, ollama\n",
            "Successfully installed ollama-0.5.3 pyngrok-7.3.0\n"
          ]
        }
      ]
    },
    {
      "cell_type": "code",
      "source": [
        "import subprocess\n",
        "\n",
        "def start_ollama_server() -> None:\n",
        "    \"\"\"Starts the Ollama server.\"\"\"\n",
        "    subprocess.Popen(['ollama', 'serve'])\n",
        "    print(\"Ollama server started.\")\n",
        "\n",
        "start_ollama_server()"
      ],
      "metadata": {
        "colab": {
          "base_uri": "https://localhost:8080/"
        },
        "id": "rNe9sCevS6wh",
        "outputId": "10caf8cd-8fd4-4fde-aedd-6d1cbb350c88"
      },
      "execution_count": null,
      "outputs": [
        {
          "output_type": "stream",
          "name": "stdout",
          "text": [
            "Ollama server started.\n"
          ]
        }
      ]
    },
    {
      "cell_type": "code",
      "source": [
        "from pyngrok import ngrok\n",
        "from google.colab import userdata\n",
        "\n",
        "def setup_ngrok_tunnel(port: str) -> ngrok.NgrokTunnel:\n",
        "    \"\"\"Sets up an ngrok tunnel.\n",
        "\n",
        "    Args:\n",
        "        port: The port to tunnel.\n",
        "\n",
        "    Returns:\n",
        "        The ngrok tunnel object.\n",
        "\n",
        "    Raises:\n",
        "        RuntimeError: If the ngrok authtoken is not set.\n",
        "    \"\"\"\n",
        "    ngrok_auth_token = userdata.get('NGROK_AUTHTOKEN')\n",
        "    if not ngrok_auth_token:\n",
        "        raise RuntimeError(\"NGROK_AUTHTOKEN is not set.\")\n",
        "\n",
        "    ngrok.set_auth_token(ngrok_auth_token)\n",
        "    tunnel = ngrok.connect(port, host_header=f'localhost:{port}')\n",
        "    print(f\"ngrok tunnel created: {tunnel.public_url}\")\n",
        "    return tunnel"
      ],
      "metadata": {
        "id": "D925DsHEThCv"
      },
      "execution_count": null,
      "outputs": []
    },
    {
      "cell_type": "code",
      "source": [
        "NGROK_PORT = '11434'\n",
        "ngrok_tunnel = setup_ngrok_tunnel(NGROK_PORT)"
      ],
      "metadata": {
        "colab": {
          "base_uri": "https://localhost:8080/"
        },
        "id": "SAOooqx1T4S4",
        "outputId": "e23962a8-f05f-4c02-b52c-048ffca1f435"
      },
      "execution_count": null,
      "outputs": [
        {
          "output_type": "stream",
          "name": "stdout",
          "text": [
            "ngrok tunnel created: https://6847f06a29c5.ngrok-free.app\n"
          ]
        }
      ]
    },
    {
      "cell_type": "code",
      "source": [
        "!export OLLAMA_HOST=https://6847f06a29c5.ngrok-free.app/"
      ],
      "metadata": {
        "id": "AUK047ULUJIv"
      },
      "execution_count": null,
      "outputs": []
    },
    {
      "cell_type": "code",
      "source": [
        "!ollama pull smollm:1.7b"
      ],
      "metadata": {
        "colab": {
          "base_uri": "https://localhost:8080/"
        },
        "id": "RX58fmw2VWet",
        "outputId": "60d43175-ab15-486c-8f57-0128b39caddb"
      },
      "execution_count": null,
      "outputs": [
        {
          "output_type": "stream",
          "name": "stdout",
          "text": [
            "\u001b[?2026h\u001b[?25l\u001b[1G\u001b[?25h\u001b[?2026l\u001b[?2026h\u001b[?25l\u001b[1G\u001b[?25h\u001b[?2026l\u001b[?2026h\u001b[?25l\u001b[1G\u001b[?25h\u001b[?2026l\u001b[?2026h\u001b[?25l\u001b[1G\u001b[?25h\u001b[?2026l\u001b[?2026h\u001b[?25l\u001b[1G\u001b[?25h\u001b[?2026l\u001b[?2026h\u001b[?25l\u001b[1G\u001b[?25h\u001b[?2026l\u001b[?2026h\u001b[?25l\u001b[1G\u001b[?25h\u001b[?2026l\u001b[?2026h\u001b[?25l\u001b[1G\u001b[?25h\u001b[?2026l\u001b[?2026h\u001b[?25l\u001b[1G\u001b[?25h\u001b[?2026l\u001b[?2026h\u001b[?25l\u001b[1G\u001b[?25h\u001b[?2026l\u001b[?2026h\u001b[?25l\u001b[1G\u001b[?25h\u001b[?2026l\u001b[?2026h\u001b[?25l\u001b[1G\u001b[?25h\u001b[?2026l\u001b[?2026h\u001b[?25l\u001b[A\u001b[1G\u001b[?25h\u001b[?2026l\u001b[?2026h\u001b[?25l\u001b[A\u001b[1G\u001b[?25h\u001b[?2026l\u001b[?2026h\u001b[?25l\u001b[A\u001b[1G\u001b[?25h\u001b[?2026l\u001b[?2026h\u001b[?25l\u001b[A\u001b[1G\u001b[?25h\u001b[?2026l\u001b[?2026h\u001b[?25l\u001b[A\u001b[1G\u001b[?25h\u001b[?2026l\u001b[?2026h\u001b[?25l\u001b[A\u001b[1G\u001b[?25h\u001b[?2026l\u001b[?2026h\u001b[?25l\u001b[A\u001b[1G\u001b[?25h\u001b[?2026l\u001b[?2026h\u001b[?25l\u001b[A\u001b[1G\u001b[?25h\u001b[?2026l\u001b[?2026h\u001b[?25l\u001b[A\u001b[1G\u001b[?25h\u001b[?2026l\u001b[?2026h\u001b[?25l\u001b[A\u001b[1G\u001b[?25h\u001b[?2026l\u001b[?2026h\u001b[?25l\u001b[A\u001b[1G\u001b[?25h\u001b[?2026l\u001b[?2026h\u001b[?25l\u001b[A\u001b[1G\u001b[?25h\u001b[?2026l\u001b[?2026h\u001b[?25l\u001b[A\u001b[1G\u001b[?25h\u001b[?2026l\u001b[?2026h\u001b[?25l\u001b[A\u001b[1G\u001b[?25h\u001b[?2026l\u001b[?2026h\u001b[?25l\u001b[A\u001b[1G\u001b[?25h\u001b[?2026l\u001b[?2026h\u001b[?25l\u001b[A\u001b[1G\u001b[?25h\u001b[?2026l\u001b[?2026h\u001b[?25l\u001b[A\u001b[1G\u001b[?25h\u001b[?2026l\u001b[?2026h\u001b[?25l\u001b[A\u001b[1G\u001b[?25h\u001b[?2026l\u001b[?2026h\u001b[?25l\u001b[A\u001b[1G\u001b[?25h\u001b[?2026l\u001b[?2026h\u001b[?25l\u001b[A\u001b[1G\u001b[?25h\u001b[?2026l\u001b[?2026h\u001b[?25l\u001b[A\u001b[1G\u001b[?25h\u001b[?2026l\u001b[?2026h\u001b[?25l\u001b[A\u001b[1G\u001b[?25h\u001b[?2026l\u001b[?2026h\u001b[?25l\u001b[A\u001b[1G\u001b[?25h\u001b[?2026l\u001b[?2026h\u001b[?25l\u001b[A\u001b[1G\u001b[?25h\u001b[?2026l\u001b[?2026h\u001b[?25l\u001b[A\u001b[1G\u001b[?25h\u001b[?2026l\u001b[?2026h\u001b[?25l\u001b[A\u001b[1G\u001b[?25h\u001b[?2026l\u001b[?2026h\u001b[?25l\u001b[A\u001b[1G\u001b[?25h\u001b[?2026l\u001b[?2026h\u001b[?25l\u001b[A\u001b[1G\u001b[?25h\u001b[?2026l\u001b[?2026h\u001b[?25l\u001b[A\u001b[1G\u001b[?25h\u001b[?2026l\u001b[?2026h\u001b[?25l\u001b[A\u001b[1G\u001b[?25h\u001b[?2026l\u001b[?2026h\u001b[?25l\u001b[A\u001b[1G\u001b[?25h\u001b[?2026l\u001b[?2026h\u001b[?25l\u001b[A\u001b[1G\u001b[?25h\u001b[?2026l\u001b[?2026h\u001b[?25l\u001b[A\u001b[1G\u001b[?25h\u001b[?2026l\u001b[?2026h\u001b[?25l\u001b[A\u001b[1G\u001b[?25h\u001b[?2026l\u001b[?2026h\u001b[?25l\u001b[A\u001b[1G\u001b[?25h\u001b[?2026l\u001b[?2026h\u001b[?25l\u001b[A\u001b[1G\u001b[?25h\u001b[?2026l\u001b[?2026h\u001b[?25l\u001b[A\u001b[1G\u001b[?25h\u001b[?2026l\u001b[?2026h\u001b[?25l\u001b[A\u001b[1G\u001b[?25h\u001b[?2026l\u001b[?2026h\u001b[?25l\u001b[A\u001b[1G\u001b[?25h\u001b[?2026l\u001b[?2026h\u001b[?25l\u001b[A\u001b[1G\u001b[?25h\u001b[?2026l\u001b[?2026h\u001b[?25l\u001b[A\u001b[1G\u001b[?25h\u001b[?2026l\u001b[?2026h\u001b[?25l\u001b[A\u001b[1G\u001b[?25h\u001b[?2026l\u001b[?2026h\u001b[?25l\u001b[A\u001b[1G\u001b[?25h\u001b[?2026l\u001b[?2026h\u001b[?25l\u001b[A\u001b[1G\u001b[?25h\u001b[?2026l\u001b[?2026h\u001b[?25l\u001b[A\u001b[1G\u001b[?25h\u001b[?2026l\u001b[?2026h\u001b[?25l\u001b[A\u001b[1G\u001b[?25h\u001b[?2026l\u001b[?2026h\u001b[?25l\u001b[A\u001b[1G\u001b[?25h\u001b[?2026l\u001b[?2026h\u001b[?25l\u001b[A\u001b[1G\u001b[?25h\u001b[?2026l\u001b[?2026h\u001b[?25l\u001b[A\u001b[1G\u001b[?25h\u001b[?2026l\u001b[?2026h\u001b[?25l\u001b[A\u001b[1G\u001b[?25h\u001b[?2026l\u001b[?2026h\u001b[?25l\u001b[A\u001b[1G\u001b[?25h\u001b[?2026l\u001b[?2026h\u001b[?25l\u001b[A\u001b[1G\u001b[?25h\u001b[?2026l\u001b[?2026h\u001b[?25l\u001b[A\u001b[1G\u001b[?25h\u001b[?2026l\u001b[?2026h\u001b[?25l\u001b[A\u001b[1G\u001b[?25h\u001b[?2026l\u001b[?2026h\u001b[?25l\u001b[A\u001b[1G\u001b[?25h\u001b[?2026l\u001b[?2026h\u001b[?25l\u001b[A\u001b[1G\u001b[?25h\u001b[?2026l\u001b[?2026h\u001b[?25l\u001b[A\u001b[1G\u001b[?25h\u001b[?2026l\u001b[?2026h\u001b[?25l\u001b[A\u001b[1G\u001b[?25h\u001b[?2026l\u001b[?2026h\u001b[?25l\u001b[A\u001b[1G\u001b[?25h\u001b[?2026l\u001b[?2026h\u001b[?25l\u001b[A\u001b[1G\u001b[?25h\u001b[?2026l\u001b[?2026h\u001b[?25l\u001b[A\u001b[1G\u001b[?25h\u001b[?2026l\u001b[?2026h\u001b[?25l\u001b[A\u001b[1G\u001b[?25h\u001b[?2026l\u001b[?2026h\u001b[?25l\u001b[A\u001b[1G\u001b[?25h\u001b[?2026l\u001b[?2026h\u001b[?25l\u001b[A\u001b[A\u001b[1G\u001b[?25h\u001b[?2026l\u001b[?2026h\u001b[?25l\u001b[A\u001b[A\u001b[1G\u001b[?25h\u001b[?2026l\u001b[?2026h\u001b[?25l\u001b[A\u001b[A\u001b[1G\u001b[?25h\u001b[?2026l\u001b[?2026h\u001b[?25l\u001b[A\u001b[A\u001b[1G\u001b[?25h\u001b[?2026l\u001b[?2026h\u001b[?25l\u001b[A\u001b[A\u001b[1G\u001b[?25h\u001b[?2026l\u001b[?2026h\u001b[?25l\u001b[A\u001b[A\u001b[1G\u001b[?25h\u001b[?2026l\u001b[?2026h\u001b[?25l\u001b[A\u001b[A\u001b[1G\u001b[?25h\u001b[?2026l\u001b[?2026h\u001b[?25l\u001b[A\u001b[A\u001b[1G\u001b[?25h\u001b[?2026l\u001b[?2026h\u001b[?25l\u001b[A\u001b[A\u001b[1G\u001b[?25h\u001b[?2026l\u001b[?2026h\u001b[?25l\u001b[A\u001b[A\u001b[1G\u001b[?25h\u001b[?2026l\u001b[?2026h\u001b[?25l\u001b[A\u001b[A\u001b[1G\u001b[?25h\u001b[?2026l\u001b[?2026h\u001b[?25l\u001b[A\u001b[A\u001b[1G\u001b[?25h\u001b[?2026l\u001b[?2026h\u001b[?25l\u001b[A\u001b[A\u001b[1G\u001b[?25h\u001b[?2026l\u001b[?2026h\u001b[?25l\u001b[A\u001b[A\u001b[A\u001b[1G\u001b[?25h\u001b[?2026l\u001b[?2026h\u001b[?25l\u001b[A\u001b[A\u001b[A\u001b[1G\u001b[?25h\u001b[?2026l\u001b[?2026h\u001b[?25l\u001b[A\u001b[A\u001b[A\u001b[1G\u001b[?25h\u001b[?2026l\u001b[?2026h\u001b[?25l\u001b[A\u001b[A\u001b[A\u001b[1G\u001b[?25h\u001b[?2026l\u001b[?2026h\u001b[?25l\u001b[A\u001b[A\u001b[A\u001b[1G\u001b[?25h\u001b[?2026l\u001b[?2026h\u001b[?25l\u001b[A\u001b[A\u001b[A\u001b[1G\u001b[?25h\u001b[?2026l\u001b[?2026h\u001b[?25l\u001b[A\u001b[A\u001b[A\u001b[1G\u001b[?25h\u001b[?2026l\u001b[?2026h\u001b[?25l\u001b[A\u001b[A\u001b[A\u001b[1G\u001b[?25h\u001b[?2026l\u001b[?2026h\u001b[?25l\u001b[A\u001b[A\u001b[A\u001b[1G\u001b[?25h\u001b[?2026l\u001b[?2026h\u001b[?25l\u001b[A\u001b[A\u001b[A\u001b[1G\u001b[?25h\u001b[?2026l\u001b[?2026h\u001b[?25l\u001b[A\u001b[A\u001b[A\u001b[1G\u001b[?25h\u001b[?2026l\u001b[?2026h\u001b[?25l\u001b[A\u001b[A\u001b[A\u001b[1G\u001b[?25h\u001b[?2026l\u001b[?2026h\u001b[?25l\u001b[A\u001b[A\u001b[A\u001b[1G\u001b[?25h\u001b[?2026l\u001b[?2026h\u001b[?25l\u001b[A\u001b[A\u001b[A\u001b[1G\u001b[?25h\u001b[?2026l\u001b[?2026h\u001b[?25l\u001b[A\u001b[A\u001b[A\u001b[A\u001b[1G\u001b[?25h\u001b[?2026l\u001b[?2026h\u001b[?25l\u001b[A\u001b[A\u001b[A\u001b[A\u001b[1G\u001b[?25h\u001b[?2026l\u001b[?2026h\u001b[?25l\u001b[A\u001b[A\u001b[A\u001b[A\u001b[1G\u001b[?25h\u001b[?2026l\u001b[?2026h\u001b[?25l\u001b[A\u001b[A\u001b[A\u001b[A\u001b[1G\u001b[?25h\u001b[?2026l\u001b[?2026h\u001b[?25l\u001b[A\u001b[A\u001b[A\u001b[A\u001b[1G\u001b[?25h\u001b[?2026l\u001b[?2026h\u001b[?25l\u001b[A\u001b[A\u001b[A\u001b[A\u001b[1G\u001b[?25h\u001b[?2026l\u001b[?2026h\u001b[?25l\u001b[A\u001b[A\u001b[A\u001b[A\u001b[1G\u001b[?25h\u001b[?2026l\u001b[?2026h\u001b[?25l\u001b[A\u001b[A\u001b[A\u001b[A\u001b[1G\u001b[?25h\u001b[?2026l\u001b[?2026h\u001b[?25l\u001b[A\u001b[A\u001b[A\u001b[A\u001b[1G\u001b[?25h\u001b[?2026l\u001b[?2026h\u001b[?25l\u001b[A\u001b[A\u001b[A\u001b[A\u001b[1G\u001b[?25h\u001b[?2026l\u001b[?2026h\u001b[?25l\u001b[A\u001b[A\u001b[A\u001b[A\u001b[1G\u001b[?25h\u001b[?2026l\u001b[?2026h\u001b[?25l\u001b[A\u001b[A\u001b[A\u001b[A\u001b[1G\u001b[?25h\u001b[?2026l\u001b[?2026h\u001b[?25l\u001b[A\u001b[A\u001b[A\u001b[A\u001b[1G\u001b[?25h\u001b[?2026l\u001b[?2026h\u001b[?25l\u001b[A\u001b[A\u001b[A\u001b[A\u001b[A\u001b[1G\u001b[?25h\u001b[?2026l\u001b[?2026h\u001b[?25l\u001b[A\u001b[A\u001b[A\u001b[A\u001b[A\u001b[1G\u001b[?25h\u001b[?2026l\u001b[?2026h\u001b[?25l\u001b[A\u001b[A\u001b[A\u001b[A\u001b[A\u001b[1G\u001b[?25h\u001b[?2026l\u001b[?2026h\u001b[?25l\u001b[A\u001b[A\u001b[A\u001b[A\u001b[A\u001b[1G\u001b[?25h\u001b[?2026l\u001b[?2026h\u001b[?25l\u001b[A\u001b[A\u001b[A\u001b[A\u001b[A\u001b[1G\u001b[?25h\u001b[?2026l\u001b[?2026h\u001b[?25l\u001b[A\u001b[A\u001b[A\u001b[A\u001b[A\u001b[1G\u001b[?25h\u001b[?2026l\u001b[?2026h\u001b[?25l\u001b[A\u001b[A\u001b[A\u001b[A\u001b[A\u001b[1G\u001b[?25h\u001b[?2026l\u001b[?2026h\u001b[?25l\u001b[A\u001b[A\u001b[A\u001b[A\u001b[A\u001b[1G\u001b[?25h\u001b[?2026l\u001b[?2026h\u001b[?25l\u001b[A\u001b[A\u001b[A\u001b[A\u001b[A\u001b[A\u001b[1G\u001b[?25h\u001b[?2026l\u001b[?2026h\u001b[?25l\u001b[A\u001b[A\u001b[A\u001b[A\u001b[A\u001b[A\u001b[1G\u001b[?25h\u001b[?2026l\u001b[?2026h\u001b[?25l\u001b[A\u001b[A\u001b[A\u001b[A\u001b[A\u001b[A\u001b[1G\u001b[?25h\u001b[?2026l\u001b[?2026h\u001b[?25l\u001b[A\u001b[A\u001b[A\u001b[A\u001b[A\u001b[A\u001b[1G\u001b[?25h\u001b[?2026l\u001b[?2026h\u001b[?25l\u001b[A\u001b[A\u001b[A\u001b[A\u001b[A\u001b[A\u001b[1G\u001b[?25h\u001b[?2026l\u001b[?2026h\u001b[?25l\u001b[A\u001b[A\u001b[A\u001b[A\u001b[A\u001b[A\u001b[1G\u001b[?25h\u001b[?2026l\u001b[?2026h\u001b[?25l\u001b[A\u001b[A\u001b[A\u001b[A\u001b[A\u001b[A\u001b[1G\u001b[?25h\u001b[?2026l\u001b[?2026h\u001b[?25l\u001b[A\u001b[A\u001b[A\u001b[A\u001b[A\u001b[A\u001b[1G\u001b[?25h\u001b[?2026l\u001b[?2026h\u001b[?25l\u001b[A\u001b[A\u001b[A\u001b[A\u001b[A\u001b[A\u001b[1G\u001b[?25h\u001b[?2026l\u001b[?2026h\u001b[?25l\u001b[A\u001b[A\u001b[A\u001b[A\u001b[A\u001b[A\u001b[1G\u001b[?25h\u001b[?2026l\u001b[?2026h\u001b[?25l\u001b[A\u001b[A\u001b[A\u001b[A\u001b[A\u001b[A\u001b[1G\u001b[?25h\u001b[?2026l\u001b[?2026h\u001b[?25l\u001b[A\u001b[A\u001b[A\u001b[A\u001b[A\u001b[A\u001b[1G\u001b[?25h\u001b[?2026l\u001b[?2026h\u001b[?25l\u001b[A\u001b[A\u001b[A\u001b[A\u001b[A\u001b[A\u001b[1G\u001b[?25h\u001b[?2026l\u001b[?2026h\u001b[?25l\u001b[A\u001b[A\u001b[A\u001b[A\u001b[A\u001b[A\u001b[1G\u001b[?25h\u001b[?2026l\u001b[?2026h\u001b[?25l\u001b[A\u001b[A\u001b[A\u001b[A\u001b[A\u001b[A\u001b[1G\u001b[?25h\u001b[?2026l\u001b[?2026h\u001b[?25l\u001b[A\u001b[A\u001b[A\u001b[A\u001b[A\u001b[A\u001b[1G\u001b[?25h\u001b[?2026l\u001b[?2026h\u001b[?25l\u001b[A\u001b[A\u001b[A\u001b[A\u001b[A\u001b[A\u001b[1G\u001b[?25h\u001b[?2026l\u001b[?2026h\u001b[?25l\u001b[A\u001b[A\u001b[A\u001b[A\u001b[A\u001b[A\u001b[1G\u001b[?25h\u001b[?2026l\u001b[?2026h\u001b[?25l\u001b[A\u001b[A\u001b[A\u001b[A\u001b[A\u001b[A\u001b[1G\u001b[?25h\u001b[?2026l\u001b[?2026h\u001b[?25l\u001b[A\u001b[A\u001b[A\u001b[A\u001b[A\u001b[A\u001b[1G\u001b[?25h\u001b[?2026l\u001b[?2026h\u001b[?25l\u001b[A\u001b[A\u001b[A\u001b[A\u001b[A\u001b[A\u001b[1G\u001b[?25h\u001b[?2026l\u001b[?2026h\u001b[?25l\u001b[A\u001b[A\u001b[A\u001b[A\u001b[A\u001b[A\u001b[1G\u001b[?25h\u001b[?2026l\u001b[?2026h\u001b[?25l\u001b[A\u001b[A\u001b[A\u001b[A\u001b[A\u001b[A\u001b[1G\u001b[?25h\u001b[?2026l\u001b[?2026h\u001b[?25l\u001b[A\u001b[A\u001b[A\u001b[A\u001b[A\u001b[A\u001b[1G\u001b[?25h\u001b[?2026l\u001b[?2026h\u001b[?25l\u001b[A\u001b[A\u001b[A\u001b[A\u001b[A\u001b[A\u001b[1G\u001b[?25h\u001b[?2026l\u001b[?2026h\u001b[?25l\u001b[A\u001b[A\u001b[A\u001b[A\u001b[A\u001b[A\u001b[1G\u001b[?25h\u001b[?2026l\u001b[?2026h\u001b[?25l\u001b[A\u001b[A\u001b[A\u001b[A\u001b[A\u001b[A\u001b[1G\u001b[?25h\u001b[?2026l\u001b[?2026h\u001b[?25l\u001b[A\u001b[A\u001b[A\u001b[A\u001b[A\u001b[A\u001b[1G\u001b[?25h\u001b[?2026l\u001b[?2026h\u001b[?25l\u001b[A\u001b[A\u001b[A\u001b[A\u001b[A\u001b[A\u001b[1G\u001b[?25h\u001b[?2026l\u001b[?2026h\u001b[?25l\u001b[A\u001b[A\u001b[A\u001b[A\u001b[A\u001b[A\u001b[1G\u001b[?25h\u001b[?2026l\u001b[?2026h\u001b[?25l\u001b[A\u001b[A\u001b[A\u001b[A\u001b[A\u001b[A\u001b[1G\u001b[?25h\u001b[?2026l\u001b[?2026h\u001b[?25l\u001b[A\u001b[A\u001b[A\u001b[A\u001b[A\u001b[A\u001b[1G\u001b[?25h\u001b[?2026l\u001b[?2026h\u001b[?25l\u001b[A\u001b[A\u001b[A\u001b[A\u001b[A\u001b[A\u001b[1G\u001b[?25h\u001b[?2026l\n"
          ]
        }
      ]
    },
    {
      "cell_type": "code",
      "source": [
        "!ollama list"
      ],
      "metadata": {
        "colab": {
          "base_uri": "https://localhost:8080/"
        },
        "id": "FDyGf5WrVc_k",
        "outputId": "7c7bfd15-dd84-428a-9cfc-c39053c85001"
      },
      "execution_count": null,
      "outputs": [
        {
          "output_type": "stream",
          "name": "stdout",
          "text": [
            "NAME           ID              SIZE      MODIFIED               \n",
            "smollm:1.7b    95f6557a0f0f    990 MB    Less than a second ago    \n"
          ]
        }
      ]
    },
    {
      "cell_type": "code",
      "source": [
        "!ollama run smollm:1.7b \"Me explique em 3 linhas o que é aprendizado de máquina\""
      ],
      "metadata": {
        "colab": {
          "base_uri": "https://localhost:8080/"
        },
        "id": "GCM6Q3lOZkzZ",
        "outputId": "83d12a98-eeaf-4a10-f679-bb2045db3328"
      },
      "execution_count": null,
      "outputs": [
        {
          "output_type": "stream",
          "name": "stdout",
          "text": [
            "\u001b[?25l\u001b[?2026h\u001b[?25l\u001b[1G\u001b[?25h\u001b[?2026l\u001b[2K\u001b[1G\u001b[?25hHere\u001b[?25l\u001b[?25h are\u001b[?25l\u001b[?25h three\u001b[?25l\u001b[?25h lines\u001b[?25l\u001b[?25h that\u001b[?25l\u001b[?25h illustrate\u001b[?25l\u001b[?25h the\u001b[?25l\u001b[?25h concept\u001b[?25l\u001b[?25h of\u001b[?25l\u001b[?25h machine\u001b[?25l\u001b[?25h learning\u001b[?25l\u001b[?25h:\u001b[?25l\u001b[?25h\n",
            "\u001b[?25l\u001b[?25h\n",
            "\u001b[?25l\u001b[?25h**\u001b[?25l\u001b[?25hLine\u001b[?25l\u001b[?25h \u001b[?25l\u001b[?25h1\u001b[?25l\u001b[?25h:**\u001b[?25l\u001b[?25h \"\u001b[?25l\u001b[?25hMachine\u001b[?25l\u001b[?25h learning\u001b[?25l\u001b[?25h is\u001b[?25l\u001b[?25h a\u001b[?25l\u001b[?25h subfield\u001b[?25l\u001b[?25h of\u001b[?25l\u001b[?25h artificial\u001b[?25l\u001b[?25h intelligence\u001b[?25l\u001b[?25h (\u001b[?25l\u001b[?25hAI\u001b[?25l\u001b[?25h)\u001b[?25l\u001b[?25h that\u001b[?25l\u001b[?25h involves\u001b[?25l\u001b[?25h training\u001b[?25l\u001b[?25h algorithms\u001b[?25l\u001b[?25h to\u001b[?25l\u001b[?25h learn\u001b[?25l\u001b[?25h from\u001b[?25l\u001b[?25h data\u001b[?25l\u001b[?25h and\u001b[?25l\u001b[?25h make\u001b[?25l\u001b[?25h predictions\u001b[?25l\u001b[?25h or\u001b[?25l\u001b[?25h decisions\u001b[?25l\u001b[?25h without\u001b[?25l\u001b[?25h being\u001b[?25l\u001b[?25h explicitly\u001b[?25l\u001b[?25h programmed\u001b[?25l\u001b[?25h.\"\u001b[?25l\u001b[?25h\n",
            "\u001b[?25l\u001b[?25h\n",
            "\u001b[?25l\u001b[?25hIn\u001b[?25l\u001b[?25h this\u001b[?25l\u001b[?25h line\u001b[?25l\u001b[?25h,\u001b[?25l\u001b[?25h we\u001b[?25l\u001b[?25h're\u001b[?25l\u001b[?25h introducing\u001b[?25l\u001b[?25h the\u001b[?25l\u001b[?25h concept\u001b[?25l\u001b[?25h of\u001b[?25l\u001b[?25h machine\u001b[?25l\u001b[?25h learning\u001b[?25l\u001b[?25h by\u001b[?25l\u001b[?25h explaining\u001b[?25l\u001b[?25h what\u001b[?25l\u001b[?25h it\u001b[?25l\u001b[?25h is\u001b[?25l\u001b[?25h and\u001b[?25l\u001b[?25h how\u001b[?25l\u001b[?25h it\u001b[?25l\u001b[?25h differs\u001b[?25l\u001b[?25h from\u001b[?25l\u001b[?25h traditional\u001b[?25l\u001b[?25h programming\u001b[?25l\u001b[?25h.\u001b[?25l\u001b[?25h Machine\u001b[?25l\u001b[?25h learning\u001b[?25l\u001b[?25h is\u001b[?25l\u001b[?25h a\u001b[?25l\u001b[?25h type\u001b[?25l\u001b[?25h of\u001b[?25l\u001b[?25h AI\u001b[?25l\u001b[?25h that\u001b[?25l\u001b[?25h allows\u001b[?25l\u001b[?25h computers\u001b[?25l\u001b[?25h to\u001b[?25l\u001b[?25h learn\u001b[?25l\u001b[?25h from\u001b[?25l\u001b[?25h data\u001b[?25l\u001b[?25h and\u001b[?25l\u001b[?25h improve\u001b[?25l\u001b[?25h their\u001b[?25l\u001b[?25h performance\u001b[?25l\u001b[?25h on\u001b[?25l\u001b[?25h a\u001b[?25l\u001b[?25h task\u001b[?25l\u001b[?25h over\u001b[?25l\u001b[?25h time\u001b[?25l\u001b[?25h,\u001b[?25l\u001b[?25h rather\u001b[?25l\u001b[?25h than\u001b[?25l\u001b[?25h following\u001b[?25l\u001b[?25h a\u001b[?25l\u001b[?25h set\u001b[?25l\u001b[?25h of\u001b[?25l\u001b[?25h predetermined\u001b[?25l\u001b[?25h rules\u001b[?25l\u001b[?25h or\u001b[?25l\u001b[?25h instructions\u001b[?25l\u001b[?25h.\u001b[?25l\u001b[?25h This\u001b[?25l\u001b[?25h is\u001b[?25l\u001b[?25h achieved\u001b[?25l\u001b[?25h through\u001b[?25l\u001b[?25h algorithms\u001b[?25l\u001b[?25h that\u001b[?25l\u001b[?25h can\u001b[?25l\u001b[?25h analyze\u001b[?25l\u001b[?25h large\u001b[?25l\u001b[?25h amounts\u001b[?25l\u001b[?25h of\u001b[?25l\u001b[?25h data\u001b[?25l\u001b[?25h and\u001b[?25l\u001b[?25h identify\u001b[?25l\u001b[?25h patterns\u001b[?25l\u001b[?25h,\u001b[?25l\u001b[?25h relationships\u001b[?25l\u001b[?25h,\u001b[?25l\u001b[?25h and\u001b[?25l\u001b[?25h trends\u001b[?25l\u001b[?25h.\u001b[?25l\u001b[?25h\n",
            "\u001b[?25l\u001b[?25h\n",
            "\u001b[?25l\u001b[?25h**\u001b[?25l\u001b[?25hLine\u001b[?25l\u001b[?25h \u001b[?25l\u001b[?25h2\u001b[?25l\u001b[?25h:**\u001b[?25l\u001b[?25h \"\u001b[?25l\u001b[?25hMachine\u001b[?25l\u001b[?25h learning\u001b[?25l\u001b[?25h algorithms\u001b[?25l\u001b[?25h are\u001b[?25l\u001b[?25h trained\u001b[?25l\u001b[?25h on\u001b[?25l\u001b[?25h historical\u001b[?25l\u001b[?25h data\u001b[?25l\u001b[?25h to\u001b[?25l\u001b[?25h recognize\u001b[?25l\u001b[?25h patterns\u001b[?25l\u001b[?25h and\u001b[?25l\u001b[?25h make\u001b[?25l\u001b[?25h predictions\u001b[?25l\u001b[?25h about\u001b[?25l\u001b[?25h future\u001b[?25l\u001b[?25h events\u001b[?25l\u001b[?25h.\"\u001b[?25l\u001b[?25h\n",
            "\u001b[?25l\u001b[?25h\n",
            "\u001b[?25l\u001b[?25hIn\u001b[?25l\u001b[?25h this\u001b[?25l\u001b[?25h line\u001b[?25l\u001b[?25h,\u001b[?25l\u001b[?25h we\u001b[?25l\u001b[?25h're\u001b[?25l\u001b[?25h highlighting\u001b[?25l\u001b[?25h the\u001b[?25l\u001b[?25h key\u001b[?25l\u001b[?25h component\u001b[?25l\u001b[?25h of\u001b[?25l\u001b[?25h machine\u001b[?25l\u001b[?25h learning\u001b[?25l\u001b[?25h:\u001b[?25l\u001b[?25h training\u001b[?25l\u001b[?25h algorithms\u001b[?25l\u001b[?25h on\u001b[?25l\u001b[?25h data\u001b[?25l\u001b[?25h.\u001b[?25l\u001b[?25h Machine\u001b[?25l\u001b[?25h learning\u001b[?25l\u001b[?25h algorithms\u001b[?25l\u001b[?25h are\u001b[?25l\u001b[?25h designed\u001b[?25l\u001b[?25h to\u001b[?25l\u001b[?25h learn\u001b[?25l\u001b[?25h from\u001b[?25l\u001b[?25h large\u001b[?25l\u001b[?25h datasets\u001b[?25l\u001b[?25h and\u001b[?25l\u001b[?25h identify\u001b[?25l\u001b[?25h patterns\u001b[?25l\u001b[?25h and\u001b[?25l\u001b[?25h relationships\u001b[?25l\u001b[?25h within\u001b[?25l\u001b[?25h the\u001b[?25l\u001b[?25h data\u001b[?25l\u001b[?25h.\u001b[?25l\u001b[?25h Once\u001b[?25l\u001b[?25h trained\u001b[?25l\u001b[?25h,\u001b[?25l\u001b[?25h these\u001b[?25l\u001b[?25h algorithms\u001b[?25l\u001b[?25h can\u001b[?25l\u001b[?25h use\u001b[?25l\u001b[?25h this\u001b[?25l\u001b[?25h knowledge\u001b[?25l\u001b[?25h to\u001b[?25l\u001b[?25h make\u001b[?25l\u001b[?25h predictions\u001b[?25l\u001b[?25h or\u001b[?25l\u001b[?25h decisions\u001b[?25l\u001b[?25h about\u001b[?25l\u001b[?25h new\u001b[?25l\u001b[?25h,\u001b[?25l\u001b[?25h unseen\u001b[?25l\u001b[?25h data\u001b[?25l\u001b[?25h.\u001b[?25l\u001b[?25h This\u001b[?25l\u001b[?25h is\u001b[?25l\u001b[?25h known\u001b[?25l\u001b[?25h as\u001b[?25l\u001b[?25h supervised\u001b[?25l\u001b[?25h learning\u001b[?25l\u001b[?25h,\u001b[?25l\u001b[?25h where\u001b[?25l\u001b[?25h the\u001b[?25l\u001b[?25h algorithm\u001b[?25l\u001b[?25h is\u001b[?25l\u001b[?25h trained\u001b[?25l\u001b[?25h on\u001b[?25l\u001b[?25h labeled\u001b[?25l\u001b[?25h data\u001b[?25l\u001b[?25h (\u001b[?25l\u001b[?25hi\u001b[?25l\u001b[?25h.\u001b[?25l\u001b[?25he\u001b[?25l\u001b[?25h.,\u001b[?25l\u001b[?25h data\u001b[?25l\u001b[?25h with\u001b[?25l\u001b[?25h correct\u001b[?25l\u001b[?25h answers\u001b[?25l\u001b[?25h)\u001b[?25l\u001b[?25h to\u001b[?25l\u001b[?25h learn\u001b[?25l\u001b[?25h how\u001b[?25l\u001b[?25h to\u001b[?25l\u001b[?25h classify\u001b[?25l\u001b[?25h new\u001b[?25l\u001b[?25h data\u001b[?25l\u001b[?25h into\u001b[?25l\u001b[?25h different\u001b[?25l\u001b[?25h categories\u001b[?25l\u001b[?25h.\u001b[?25l\u001b[?25h\n",
            "\u001b[?25l\u001b[?25h\n",
            "\u001b[?25l\u001b[?25h**\u001b[?25l\u001b[?25hLine\u001b[?25l\u001b[?25h \u001b[?25l\u001b[?25h3\u001b[?25l\u001b[?25h:**\u001b[?25l\u001b[?25h \"\u001b[?25l\u001b[?25hMachine\u001b[?25l\u001b[?25h learning\u001b[?25l\u001b[?25h has\u001b[?25l\u001b[?25h many\u001b[?25l\u001b[?25h applications\u001b[?25l\u001b[?25h in\u001b[?25l\u001b[?25h areas\u001b[?25l\u001b[?25h such\u001b[?25l\u001b[?25h as\u001b[?25l\u001b[?25h image\u001b[?25l\u001b[?25h and\u001b[?25l\u001b[?25h speech\u001b[?25l\u001b[?25h recognition\u001b[?25l\u001b[?25h,\u001b[?25l\u001b[?25h natural\u001b[?25l\u001b[?25h language\u001b[?25l\u001b[?25h processing\u001b[?25l\u001b[?25h,\u001b[?25l\u001b[?25h and\u001b[?25l\u001b[?25h recomm\u001b[?25l\u001b[?25hender\u001b[?25l\u001b[?25h systems\u001b[?25l\u001b[?25h.\"\u001b[?25l\u001b[?25h\n",
            "\u001b[?25l\u001b[?25h\n",
            "\u001b[?25l\u001b[?25hIn\u001b[?25l\u001b[?25h this\u001b[?25l\u001b[?25h final\u001b[?25l\u001b[?25h line\u001b[?25l\u001b[?25h,\u001b[?25l\u001b[?25h we\u001b[?25l\u001b[?25h're\u001b[?25l\u001b[?25h emphasizing\u001b[?25l\u001b[?25h the\u001b[?25l\u001b[?25h versatility\u001b[?25l\u001b[?25h of\u001b[?25l\u001b[?25h machine\u001b[?25l\u001b[?25h learning\u001b[?25l\u001b[?25h and\u001b[?25l\u001b[?25h its\u001b[?25l\u001b[?25h potential\u001b[?25l\u001b[?25h impact\u001b[?25l\u001b[?25h on\u001b[?25l\u001b[?25h various\u001b[?25l\u001b[?25h industries\u001b[?25l\u001b[?25h.\u001b[?25l\u001b[?25h Machine\u001b[?25l\u001b[?25h learning\u001b[?25l\u001b[?25h has\u001b[?25l\u001b[?25h been\u001b[?25l\u001b[?25h applied\u001b[?25l\u001b[?25h to\u001b[?25l\u001b[?25h a\u001b[?25l\u001b[?25h wide\u001b[?25l\u001b[?25h range\u001b[?25l\u001b[?25h of\u001b[?25l\u001b[?25h tasks\u001b[?25l\u001b[?25h,\u001b[?25l\u001b[?25h including\u001b[?25l\u001b[?25h:\u001b[?25l\u001b[?25h\n",
            "\u001b[?25l\u001b[?25h\n",
            "\u001b[?25l\u001b[?25h*\u001b[?25l\u001b[?25h Image\u001b[?25l\u001b[?25h and\u001b[?25l\u001b[?25h speech\u001b[?25l\u001b[?25h recognition\u001b[?25l\u001b[?25h:\u001b[?25l\u001b[?25h enabling\u001b[?25l\u001b[?25h computers\u001b[?25l\u001b[?25h to\u001b[?25l\u001b[?25h recognize\u001b[?25l\u001b[?25h objects\u001b[?25l\u001b[?25h and\u001b[?25l\u001b[?25h speech\u001b[?25l\u001b[?25h patterns\u001b[?25l\u001b[?25h in\u001b[?25l\u001b[?25h images\u001b[?25l\u001b[?25h and\u001b[?25l\u001b[?25h audio\u001b[?25l\u001b[?25h files\u001b[?25l\u001b[?25h\n",
            "\u001b[?25l\u001b[?25h*\u001b[?25l\u001b[?25h Natural\u001b[?25l\u001b[?25h language\u001b[?25l\u001b[?25h processing\u001b[?25l\u001b[?25h:\u001b[?25l\u001b[?25h allowing\u001b[?25l\u001b[?25h computers\u001b[?25l\u001b[?25h to\u001b[?25l\u001b[?25h understand\u001b[?25l\u001b[?25h and\u001b[?25l\u001b[?25h generate\u001b[?25l\u001b[?25h human\u001b[?25l\u001b[?25h-\u001b[?25l\u001b[?25hlike\u001b[?25l\u001b[?25h language\u001b[?25l\u001b[?25h\n",
            "\u001b[?25l\u001b[?25h*\u001b[?25l\u001b[?25h Recomm\u001b[?25l\u001b[?25hender\u001b[?25l\u001b[?25h systems\u001b[?25l\u001b[?25h:\u001b[?25l\u001b[?25h suggesting\u001b[?25l\u001b[?25h products\u001b[?25l\u001b[?25h or\u001b[?25l\u001b[?25h services\u001b[?25l\u001b[?25h based\u001b[?25l\u001b[?25h on\u001b[?25l\u001b[?25h user\u001b[?25l\u001b[?25h behavior\u001b[?25l\u001b[?25h and\u001b[?25l\u001b[?25h preferences\u001b[?25l\u001b[?25h\n",
            "\u001b[?25l\u001b[?25h\n",
            "\u001b[?25l\u001b[?25hThese\u001b[?25l\u001b[?25h are\u001b[?25l\u001b[?25h just\u001b[?25l\u001b[?25h a\u001b[?25l\u001b[?25h few\u001b[?25l\u001b[?25h examples\u001b[?25l\u001b[?25h of\u001b[?25l\u001b[?25h the\u001b[?25l\u001b[?25h many\u001b[?25l\u001b[?25h ways\u001b[?25l\u001b[?25h machine\u001b[?25l\u001b[?25h learning\u001b[?25l\u001b[?25h is\u001b[?25l\u001b[?25h being\u001b[?25l\u001b[?25h used\u001b[?25l\u001b[?25h to\u001b[?25l\u001b[?25h improve\u001b[?25l\u001b[?25h our\u001b[?25l\u001b[?25h lives\u001b[?25l\u001b[?25h.\u001b[?25l\u001b[?25h As\u001b[?25l\u001b[?25h the\u001b[?25l\u001b[?25h technology\u001b[?25l\u001b[?25h continues\u001b[?25l\u001b[?25h to\u001b[?25l\u001b[?25h evolve\u001b[?25l\u001b[?25h,\u001b[?25l\u001b[?25h we\u001b[?25l\u001b[?25h can\u001b[?25l\u001b[?25h expect\u001b[?25l\u001b[?25h to\u001b[?25l\u001b[?25h see\u001b[?25l\u001b[?25h even\u001b[?25l\u001b[?25h more\u001b[?25l\u001b[?25h innovative\u001b[?25l\u001b[?25h applications\u001b[?25l\u001b[?25h in\u001b[?25l\u001b[?25h the\u001b[?25l\u001b[?25h future\u001b[?25l\u001b[?25h.\u001b[?25l\u001b[?25h\n",
            "\n",
            "\u001b[?25l\u001b[?25h"
          ]
        }
      ]
    }
  ]
}